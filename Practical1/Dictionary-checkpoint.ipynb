{
 "cells": [
  {
   "cell_type": "code",
   "execution_count": 2,
   "metadata": {},
   "outputs": [
    {
     "name": "stdout",
     "output_type": "stream",
     "text": [
      "{'model': 'suzuki', 'name': 'wagonr', 'colour': 'white'}\n"
     ]
    }
   ],
   "source": [
    "dict = {\n",
    "    \"model\" : \"suzuki\",\n",
    "    \"name\" : \"wagonr\",\n",
    "    \"colour\" : \"white\"\n",
    "}\n",
    "print(dict)"
   ]
  },
  {
   "cell_type": "code",
   "execution_count": 4,
   "metadata": {},
   "outputs": [
    {
     "name": "stdout",
     "output_type": "stream",
     "text": [
      "{'model': 'suzuki', 'name': 'wagonr', 'colour': 'red'}\n"
     ]
    }
   ],
   "source": [
    "dict = {\n",
    "    \"model\" : \"suzuki\",\n",
    "    \"name\" : \"wagonr\",\n",
    "    \"colour\" : \"white\",\n",
    "    \"colour\" : \"red\"\n",
    "}\n",
    "print(dict)"
   ]
  },
  {
   "cell_type": "code",
   "execution_count": 5,
   "metadata": {},
   "outputs": [
    {
     "name": "stdout",
     "output_type": "stream",
     "text": [
      "3\n"
     ]
    }
   ],
   "source": [
    "dict = {\n",
    "    \"model\" : \"suzuki\",\n",
    "    \"name\" : \"wagonr\",\n",
    "    \"colour\" : \"white\"\n",
    "}\n",
    "print(len(dict))"
   ]
  },
  {
   "cell_type": "code",
   "execution_count": 19,
   "metadata": {},
   "outputs": [
    {
     "name": "stdout",
     "output_type": "stream",
     "text": [
      "dict_keys(['model', 'name', 'colour'])\n",
      "dict_keys(['model', 'name', 'colour'])\n"
     ]
    }
   ],
   "source": [
    "car = {\n",
    "    \"model\" : \"suzuki\",\n",
    "    \"name\" : \"wagonr\",\n",
    "    \"colour\" : \"white\"\n",
    "}\n",
    "x=car.keys()\n",
    "print(x)\n",
    "car[\"colour\"]\n",
    "print(x)"
   ]
  },
  {
   "cell_type": "code",
   "execution_count": 17,
   "metadata": {},
   "outputs": [
    {
     "name": "stdout",
     "output_type": "stream",
     "text": [
      "dict_values(['suzuki', 'wagonr', 'white'])\n",
      "dict_values(['suzuki', 'wagonr', 'red'])\n"
     ]
    }
   ],
   "source": [
    "car = {\n",
    "    \"model\" : \"suzuki\",\n",
    "    \"name\" : \"wagonr\",\n",
    "    \"colour\" : \"white\"\n",
    "}\n",
    "x=car.values()\n",
    "print(x)\n",
    "car[\"colour\"] = \"red\"\n",
    "print(x)"
   ]
  },
  {
   "cell_type": "code",
   "execution_count": 21,
   "metadata": {},
   "outputs": [
    {
     "name": "stdout",
     "output_type": "stream",
     "text": [
      "dict_items([('model', 'suzuki'), ('name', 'wagonr'), ('colour', 'white')])\n",
      "dict_items([('model', 'suzuki'), ('name', 'wagonr'), ('colour', 'green')])\n"
     ]
    }
   ],
   "source": [
    "car = {\n",
    "    \"model\" : \"suzuki\",\n",
    "    \"name\" : \"wagonr\",\n",
    "    \"colour\" : \"white\"\n",
    "}\n",
    "x=car.items()\n",
    "print(x)\n",
    "car[\"colour\"] = \"green\"\n",
    "print(x)"
   ]
  },
  {
   "cell_type": "code",
   "execution_count": 22,
   "metadata": {},
   "outputs": [
    {
     "name": "stdout",
     "output_type": "stream",
     "text": [
      "{'model': 'suzuki', 'name': 'ferrari', 'colour': 'white'}\n"
     ]
    }
   ],
   "source": [
    "car = {\n",
    "    \"model\" : \"suzuki\",\n",
    "    \"name\" : \"wagonr\",\n",
    "    \"colour\" : \"white\"\n",
    "}\n",
    "car[\"name\"]=\"ferrari\"\n",
    "print(car)"
   ]
  },
  {
   "cell_type": "code",
   "execution_count": 23,
   "metadata": {},
   "outputs": [
    {
     "name": "stdout",
     "output_type": "stream",
     "text": [
      "{'model': 'tata', 'name': 'wagonr', 'colour': 'white'}\n"
     ]
    }
   ],
   "source": [
    "car = {\n",
    "    \"model\" : \"suzuki\",\n",
    "    \"name\" : \"wagonr\",\n",
    "    \"colour\" : \"white\"\n",
    "}\n",
    "car.update({\"model\" : \"tata\"})\n",
    "print(car)"
   ]
  },
  {
   "cell_type": "code",
   "execution_count": 24,
   "metadata": {},
   "outputs": [
    {
     "name": "stdout",
     "output_type": "stream",
     "text": [
      "{'model': 'suzuki', 'name': 'wagonr', 'colour': 'white', 'year': 1999}\n"
     ]
    }
   ],
   "source": [
    "car = {\n",
    "    \"model\" : \"suzuki\",\n",
    "    \"name\" : \"wagonr\",\n",
    "    \"colour\" : \"white\"\n",
    "}\n",
    "car.update({\"year\" : 1999})\n",
    "print(car)"
   ]
  },
  {
   "cell_type": "code",
   "execution_count": 26,
   "metadata": {},
   "outputs": [
    {
     "name": "stdout",
     "output_type": "stream",
     "text": [
      "{'model': 'suzuki', 'name': 'wagonr'}\n"
     ]
    }
   ],
   "source": [
    "car = {\n",
    "    \"model\" : \"suzuki\",\n",
    "    \"name\" : \"wagonr\",\n",
    "    \"colour\" : \"white\"\n",
    "}\n",
    "car.pop(\"colour\")\n",
    "print(car)"
   ]
  },
  {
   "cell_type": "code",
   "execution_count": 27,
   "metadata": {},
   "outputs": [
    {
     "name": "stdout",
     "output_type": "stream",
     "text": [
      "{}\n"
     ]
    }
   ],
   "source": [
    "car = {\n",
    "    \"model\" : \"suzuki\",\n",
    "    \"name\" : \"wagonr\",\n",
    "    \"colour\" : \"white\"\n",
    "}\n",
    "car.clear()\n",
    "print(car)"
   ]
  },
  {
   "cell_type": "code",
   "execution_count": 28,
   "metadata": {},
   "outputs": [
    {
     "name": "stdout",
     "output_type": "stream",
     "text": [
      "model\n",
      "name\n",
      "colour\n"
     ]
    }
   ],
   "source": [
    "car = {\n",
    "    \"model\" : \"suzuki\",\n",
    "    \"name\" : \"wagonr\",\n",
    "    \"colour\" : \"white\"\n",
    "}\n",
    "for x in car :\n",
    "    print(x)"
   ]
  },
  {
   "cell_type": "code",
   "execution_count": 29,
   "metadata": {},
   "outputs": [
    {
     "name": "stdout",
     "output_type": "stream",
     "text": [
      "model\n",
      "name\n",
      "colour\n"
     ]
    }
   ],
   "source": [
    "car = {\n",
    "    \"model\" : \"suzuki\",\n",
    "    \"name\" : \"wagonr\",\n",
    "    \"colour\" : \"white\"\n",
    "}\n",
    "for x in car.keys() :\n",
    "    print(x)"
   ]
  },
  {
   "cell_type": "code",
   "execution_count": 30,
   "metadata": {},
   "outputs": [
    {
     "name": "stdout",
     "output_type": "stream",
     "text": [
      "suzuki\n",
      "wagonr\n",
      "white\n"
     ]
    }
   ],
   "source": [
    "car = {\n",
    "    \"model\" : \"suzuki\",\n",
    "    \"name\" : \"wagonr\",\n",
    "    \"colour\" : \"white\"\n",
    "}\n",
    "for x in car.values() :\n",
    "    print(x)"
   ]
  },
  {
   "cell_type": "code",
   "execution_count": 31,
   "metadata": {},
   "outputs": [
    {
     "name": "stdout",
     "output_type": "stream",
     "text": [
      "('model', 'suzuki')\n",
      "('name', 'wagonr')\n",
      "('colour', 'white')\n"
     ]
    }
   ],
   "source": [
    "car = {\n",
    "    \"model\" : \"suzuki\",\n",
    "    \"name\" : \"wagonr\",\n",
    "    \"colour\" : \"white\"\n",
    "}\n",
    "for x in car.items() :\n",
    "    print(x)"
   ]
  },
  {
   "cell_type": "code",
   "execution_count": 32,
   "metadata": {},
   "outputs": [
    {
     "name": "stdout",
     "output_type": "stream",
     "text": [
      "{'model': 'suzuki', 'name': 'wagonr', 'colour': 'white'}\n"
     ]
    }
   ],
   "source": [
    "car = {\n",
    "    \"model\" : \"suzuki\",\n",
    "    \"name\" : \"wagonr\",\n",
    "    \"colour\" : \"white\"\n",
    "}\n",
    "newcars=car.copy()\n",
    "print(newcars)"
   ]
  },
  {
   "cell_type": "code",
   "execution_count": 33,
   "metadata": {},
   "outputs": [
    {
     "name": "stdout",
     "output_type": "stream",
     "text": [
      "{'child1': {'name': 'yug', 'age': 20}, 'child2': {'name': 'purv', 'age': 16}, 'child3': {'name': 'priyank', 'age': 23}}\n"
     ]
    }
   ],
   "source": [
    "child1 = {\n",
    "    \"name\" : \"yug\",\n",
    "    \"age\":20\n",
    "}\n",
    "child2 = {\n",
    "    \"name\" : \"purv\",\n",
    "    \"age\":16\n",
    "}\n",
    "child3 = {\n",
    "    \"name\" : \"priyank\",\n",
    "    \"age\":23\n",
    "}\n",
    "family = {\n",
    "    \"child1\" : child1,\n",
    "    \"child2\" : child2,\n",
    "    \"child3\" : child3\n",
    "}\n",
    "print(family)"
   ]
  }
 ],
 "metadata": {
  "kernelspec": {
   "display_name": "Python 3",
   "language": "python",
   "name": "python3"
  },
  "language_info": {
   "codemirror_mode": {
    "name": "ipython",
    "version": 3
   },
   "file_extension": ".py",
   "mimetype": "text/x-python",
   "name": "python",
   "nbconvert_exporter": "python",
   "pygments_lexer": "ipython3",
   "version": "3.8.5"
  }
 },
 "nbformat": 4,
 "nbformat_minor": 4
}
